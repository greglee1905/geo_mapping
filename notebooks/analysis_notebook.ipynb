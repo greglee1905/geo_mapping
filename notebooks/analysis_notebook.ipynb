{
 "cells": [
  {
   "cell_type": "markdown",
   "metadata": {},
   "source": [
    "# Geospatial Visualization and Analysis\n",
    "\n",
    "Greg Lee\n",
    "<br>\n",
    "08.24.20\n",
    "\n",
    "Note: If you run this notebook through vscode, you may need to adjust the python interpreter"
   ]
  },
  {
   "cell_type": "code",
   "execution_count": 2,
   "metadata": {},
   "outputs": [],
   "source": [
    "#Libraries \n",
    "\n",
    "#Core\n",
    "import pandas as pd\n",
    "import matplotlib.pyplot as plt\n",
    "\n",
    "#Geography Specific\n",
    "import geopandas as gpd \n",
    "import fiona\n",
    "import contextily as ctx"
   ]
  },
  {
   "cell_type": "code",
   "execution_count": 8,
   "metadata": {},
   "outputs": [],
   "source": [
    "#Please set project directory pathway for your computer. This will be absolute for now.\n",
    "PROJECT_DIR = \"/home/boogie2/Hanson_Lab/mapping_tutorial\"\n",
    "\n",
    "#Load the data:\n",
    "ut_census_tracts_raw = gpd.read_file('tl_2018_cs_shapefile', epsg=4326)\n",
    "educational_attainment = pd.read_csv('ACS_Education_Attainment.txt')\n",
    "\n",
    "#Adjust the data types"
   ]
  },
  {
   "cell_type": "markdown",
   "metadata": {},
   "source": [
    "Data Sources:\n",
    "1. Census track information: www2.census.gov/geo/tiger/\n",
    "2. Educational Attainment: https://livingatlas.arcgis.com/en/home/\n",
    "\n",
    "Note that the census track information comes as a shapefile"
   ]
  },
  {
   "cell_type": "code",
   "execution_count": null,
   "metadata": {},
   "outputs": [],
   "source": []
  }
 ],
 "metadata": {
  "kernelspec": {
   "display_name": "Python 3",
   "language": "python",
   "name": "python3"
  },
  "language_info": {
   "codemirror_mode": {
    "name": "ipython",
    "version": 3
   },
   "file_extension": ".py",
   "mimetype": "text/x-python",
   "name": "python",
   "nbconvert_exporter": "python",
   "pygments_lexer": "ipython3",
   "version": "3.7.7"
  }
 },
 "nbformat": 4,
 "nbformat_minor": 2
}
