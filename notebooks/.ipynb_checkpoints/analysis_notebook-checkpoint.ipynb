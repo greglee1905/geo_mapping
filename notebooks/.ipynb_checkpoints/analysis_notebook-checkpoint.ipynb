{
 "cells": [
  {
   "cell_type": "markdown",
   "metadata": {},
   "source": [
    "# Geospatial Visualization and Analysis\n",
    "\n",
    "Greg Lee\n",
    "<br>\n",
    "08.24.20\n",
    "\n",
    "Note: If you run this notebook through vscode, you may need to adjust the python interpreter"
   ]
  },
  {
   "cell_type": "code",
   "execution_count": 1,
   "metadata": {},
   "outputs": [],
   "source": [
    "#Libraries \n",
    "\n",
    "#Core\n",
    "import pandas as pd\n",
    "import matplotlib.pyplot as plt\n",
    "\n",
    "#Geography Specific\n",
    "import geopandas as gpd \n",
    "import fiona\n",
    "import contextily as ctx"
   ]
  },
  {
   "cell_type": "markdown",
   "metadata": {},
   "source": [
    "## Loading in the Data\n",
    "\n",
    "Data loading can be a real pain in the neck. Here I showcase how to import several common data file types. Please note, often you will need to know the epsg for mapping, so it is worth grabbing when pulling the data.\n",
    "\n",
    "Data Sources:\n",
    "1. Census track information: www2.census.gov/geo/tiger/ (shapefile)\n",
    "2. Educational Attainment: https://livingatlas.arcgis.com/en/home/ (textfile)\n",
    "3. Utah Ski Resorts: https://gis.utah.gov/data/recreation/ski-areas/ (geodatabase)\n"
   ]
  },
  {
   "cell_type": "code",
   "execution_count": 2,
   "metadata": {},
   "outputs": [
    {
     "name": "stderr",
     "output_type": "stream",
     "text": [
      "/home/boogie2/anaconda3/envs/geo_mapping/lib/python3.7/site-packages/pyproj/crs/crs.py:53: FutureWarning: '+init=<authority>:<code>' syntax is deprecated. '<authority>:<code>' is the preferred initialization method. When making the change, be mindful of axis order changes: https://pyproj4.github.io/pyproj/stable/gotchas.html#axis-order-changes-in-proj-6\n",
      "  return _prepare_from_string(\" \".join(pjargs))\n"
     ]
    }
   ],
   "source": [
    "#Please set project directory pathway for your computer. This will be absolute for now.\n",
    "PROJECT_DIR = \"/home/boogie2/Hanson_Lab/mapping_tutorial/\"\n",
    "\n",
    "#Load the data:\n",
    "\n",
    "#Shapefile Load\n",
    "ut_census_tracts_raw = gpd.read_file(PROJECT_DIR + '/data/tl_2018_cs_shapefile')\n",
    "\n",
    "#Textfile Data Load\n",
    "educational_attainment_raw = pd.read_csv(PROJECT_DIR +'/data/ACS_Education_Attainment.txt')\n",
    "\n",
    "#Geodatabase load: Geopandas does not play well- use fiona instead!\n",
    "ski_resorts_raw =fiona.open(PROJECT_DIR + '/data/SkiAreaLocations.gdb')\n",
    "ski_resort_df = gpd.GeoDataFrame.from_features([feature for feature in ski_resorts_raw], crs=ski_resorts_raw.crs)\n",
    "# Get the order of the fields in the Fiona Collection; add geometry to the end\n",
    "columns = list(ski_resorts_raw.meta[\"schema\"][\"properties\"]) + [\"geometry\"]\n",
    "# Re-order columns in the correct order\n",
    "ski_resort_df = ski_resort_df[columns]\n",
    "\n",
    "#Load Utah Counties too!\n",
    "ut_counties_raw = gpd.read_file(PROJECT_DIR + '/data/utah_counties_shapefile')"
   ]
  },
  {
   "cell_type": "code",
   "execution_count": 3,
   "metadata": {},
   "outputs": [
    {
     "data": {
      "text/html": [
       "<div>\n",
       "<style scoped>\n",
       "    .dataframe tbody tr th:only-of-type {\n",
       "        vertical-align: middle;\n",
       "    }\n",
       "\n",
       "    .dataframe tbody tr th {\n",
       "        vertical-align: top;\n",
       "    }\n",
       "\n",
       "    .dataframe thead th {\n",
       "        text-align: right;\n",
       "    }\n",
       "</style>\n",
       "<table border=\"1\" class=\"dataframe\">\n",
       "  <thead>\n",
       "    <tr style=\"text-align: right;\">\n",
       "      <th></th>\n",
       "      <th>STATEFP</th>\n",
       "      <th>COUNTYFP</th>\n",
       "      <th>TRACTCE</th>\n",
       "      <th>GEOID</th>\n",
       "      <th>NAME</th>\n",
       "      <th>NAMELSAD</th>\n",
       "      <th>MTFCC</th>\n",
       "      <th>FUNCSTAT</th>\n",
       "      <th>ALAND</th>\n",
       "      <th>AWATER</th>\n",
       "      <th>INTPTLAT</th>\n",
       "      <th>INTPTLON</th>\n",
       "      <th>geometry</th>\n",
       "    </tr>\n",
       "  </thead>\n",
       "  <tbody>\n",
       "    <tr>\n",
       "      <th>0</th>\n",
       "      <td>49</td>\n",
       "      <td>049</td>\n",
       "      <td>001001</td>\n",
       "      <td>49049001001</td>\n",
       "      <td>10.01</td>\n",
       "      <td>Census Tract 10.01</td>\n",
       "      <td>G5020</td>\n",
       "      <td>S</td>\n",
       "      <td>1693893</td>\n",
       "      <td>0</td>\n",
       "      <td>+40.2934782</td>\n",
       "      <td>-111.6812127</td>\n",
       "      <td>POLYGON ((-111.69503 40.29713, -111.69326 40.2...</td>\n",
       "    </tr>\n",
       "    <tr>\n",
       "      <th>1</th>\n",
       "      <td>49</td>\n",
       "      <td>049</td>\n",
       "      <td>001002</td>\n",
       "      <td>49049001002</td>\n",
       "      <td>10.02</td>\n",
       "      <td>Census Tract 10.02</td>\n",
       "      <td>G5020</td>\n",
       "      <td>S</td>\n",
       "      <td>1508099</td>\n",
       "      <td>0</td>\n",
       "      <td>+40.2861635</td>\n",
       "      <td>-111.6792437</td>\n",
       "      <td>POLYGON ((-111.69180 40.28977, -111.68950 40.2...</td>\n",
       "    </tr>\n",
       "  </tbody>\n",
       "</table>\n",
       "</div>"
      ],
      "text/plain": [
       "  STATEFP COUNTYFP TRACTCE        GEOID   NAME            NAMELSAD  MTFCC  \\\n",
       "0      49      049  001001  49049001001  10.01  Census Tract 10.01  G5020   \n",
       "1      49      049  001002  49049001002  10.02  Census Tract 10.02  G5020   \n",
       "\n",
       "  FUNCSTAT    ALAND  AWATER     INTPTLAT      INTPTLON  \\\n",
       "0        S  1693893       0  +40.2934782  -111.6812127   \n",
       "1        S  1508099       0  +40.2861635  -111.6792437   \n",
       "\n",
       "                                            geometry  \n",
       "0  POLYGON ((-111.69503 40.29713, -111.69326 40.2...  \n",
       "1  POLYGON ((-111.69180 40.28977, -111.68950 40.2...  "
      ]
     },
     "execution_count": 3,
     "metadata": {},
     "output_type": "execute_result"
    }
   ],
   "source": [
    "#Lets look at the data: \n",
    "\n",
    "#These data are census tracts - useful later on!\n",
    "ut_census_tracts_raw.head(2)"
   ]
  },
  {
   "cell_type": "code",
   "execution_count": 4,
   "metadata": {},
   "outputs": [
    {
     "data": {
      "text/html": [
       "<div>\n",
       "<style scoped>\n",
       "    .dataframe tbody tr th:only-of-type {\n",
       "        vertical-align: middle;\n",
       "    }\n",
       "\n",
       "    .dataframe tbody tr th {\n",
       "        vertical-align: top;\n",
       "    }\n",
       "\n",
       "    .dataframe thead th {\n",
       "        text-align: right;\n",
       "    }\n",
       "</style>\n",
       "<table border=\"1\" class=\"dataframe\">\n",
       "  <thead>\n",
       "    <tr style=\"text-align: right;\">\n",
       "      <th></th>\n",
       "      <th>OBJECTID</th>\n",
       "      <th>GEOID</th>\n",
       "      <th>ALAND</th>\n",
       "      <th>AWATER</th>\n",
       "      <th>NAME</th>\n",
       "      <th>State</th>\n",
       "      <th>County</th>\n",
       "      <th>B15002_001E</th>\n",
       "      <th>B15002_001M</th>\n",
       "      <th>B15002_002E</th>\n",
       "      <th>...</th>\n",
       "      <th>B15002_calc_numAAE</th>\n",
       "      <th>B15002_calc_numAAM</th>\n",
       "      <th>B15002_calc_pctAAE</th>\n",
       "      <th>B15002_calc_pctAAM</th>\n",
       "      <th>B15002_calc_numGEBAE</th>\n",
       "      <th>B15002_calc_numGEBAM</th>\n",
       "      <th>B15002_calc_pctGEBAE</th>\n",
       "      <th>B15002_calc_pctGEBAM</th>\n",
       "      <th>Shape__Area</th>\n",
       "      <th>Shape__Length</th>\n",
       "    </tr>\n",
       "  </thead>\n",
       "  <tbody>\n",
       "    <tr>\n",
       "      <th>0</th>\n",
       "      <td>21190</td>\n",
       "      <td>49025130100</td>\n",
       "      <td>9.665790e+09</td>\n",
       "      <td>305873544.0</td>\n",
       "      <td>Census Tract 1301</td>\n",
       "      <td>Utah</td>\n",
       "      <td>Kane County</td>\n",
       "      <td>1499</td>\n",
       "      <td>178.0</td>\n",
       "      <td>755</td>\n",
       "      <td>...</td>\n",
       "      <td>152</td>\n",
       "      <td>64</td>\n",
       "      <td>10.1</td>\n",
       "      <td>4.096205</td>\n",
       "      <td>244</td>\n",
       "      <td>69</td>\n",
       "      <td>16.3</td>\n",
       "      <td>4.177582</td>\n",
       "      <td>1.530665e+10</td>\n",
       "      <td>1.953153e+06</td>\n",
       "    </tr>\n",
       "    <tr>\n",
       "      <th>1</th>\n",
       "      <td>21191</td>\n",
       "      <td>49025130200</td>\n",
       "      <td>6.681224e+08</td>\n",
       "      <td>295663.0</td>\n",
       "      <td>Census Tract 1302</td>\n",
       "      <td>Utah</td>\n",
       "      <td>Kane County</td>\n",
       "      <td>3618</td>\n",
       "      <td>206.0</td>\n",
       "      <td>1824</td>\n",
       "      <td>...</td>\n",
       "      <td>303</td>\n",
       "      <td>128</td>\n",
       "      <td>8.4</td>\n",
       "      <td>3.505584</td>\n",
       "      <td>1155</td>\n",
       "      <td>238</td>\n",
       "      <td>31.9</td>\n",
       "      <td>6.322112</td>\n",
       "      <td>1.052911e+09</td>\n",
       "      <td>1.767308e+05</td>\n",
       "    </tr>\n",
       "  </tbody>\n",
       "</table>\n",
       "<p>2 rows × 99 columns</p>\n",
       "</div>"
      ],
      "text/plain": [
       "   OBJECTID        GEOID         ALAND       AWATER               NAME State  \\\n",
       "0     21190  49025130100  9.665790e+09  305873544.0  Census Tract 1301  Utah   \n",
       "1     21191  49025130200  6.681224e+08     295663.0  Census Tract 1302  Utah   \n",
       "\n",
       "        County  B15002_001E  B15002_001M  B15002_002E  ...  \\\n",
       "0  Kane County         1499        178.0          755  ...   \n",
       "1  Kane County         3618        206.0         1824  ...   \n",
       "\n",
       "   B15002_calc_numAAE  B15002_calc_numAAM  B15002_calc_pctAAE  \\\n",
       "0                 152                  64                10.1   \n",
       "1                 303                 128                 8.4   \n",
       "\n",
       "   B15002_calc_pctAAM  B15002_calc_numGEBAE  B15002_calc_numGEBAM  \\\n",
       "0            4.096205                   244                    69   \n",
       "1            3.505584                  1155                   238   \n",
       "\n",
       "   B15002_calc_pctGEBAE  B15002_calc_pctGEBAM   Shape__Area  Shape__Length  \n",
       "0                  16.3              4.177582  1.530665e+10   1.953153e+06  \n",
       "1                  31.9              6.322112  1.052911e+09   1.767308e+05  \n",
       "\n",
       "[2 rows x 99 columns]"
      ]
     },
     "execution_count": 4,
     "metadata": {},
     "output_type": "execute_result"
    }
   ],
   "source": [
    "educational_attainment_raw.head(2) #This is our education data"
   ]
  },
  {
   "cell_type": "code",
   "execution_count": 5,
   "metadata": {},
   "outputs": [
    {
     "data": {
      "text/html": [
       "<div>\n",
       "<style scoped>\n",
       "    .dataframe tbody tr th:only-of-type {\n",
       "        vertical-align: middle;\n",
       "    }\n",
       "\n",
       "    .dataframe tbody tr th {\n",
       "        vertical-align: top;\n",
       "    }\n",
       "\n",
       "    .dataframe thead th {\n",
       "        text-align: right;\n",
       "    }\n",
       "</style>\n",
       "<table border=\"1\" class=\"dataframe\">\n",
       "  <thead>\n",
       "    <tr style=\"text-align: right;\">\n",
       "      <th></th>\n",
       "      <th>Name</th>\n",
       "      <th>geometry</th>\n",
       "    </tr>\n",
       "  </thead>\n",
       "  <tbody>\n",
       "    <tr>\n",
       "      <th>0</th>\n",
       "      <td>Park City - Canyons at Park City</td>\n",
       "      <td>POINT (453161.430 4503919.420)</td>\n",
       "    </tr>\n",
       "    <tr>\n",
       "      <th>1</th>\n",
       "      <td>Park City - Park City Mountain</td>\n",
       "      <td>POINT (457124.570 4500351.650)</td>\n",
       "    </tr>\n",
       "  </tbody>\n",
       "</table>\n",
       "</div>"
      ],
      "text/plain": [
       "                               Name                        geometry\n",
       "0  Park City - Canyons at Park City  POINT (453161.430 4503919.420)\n",
       "1    Park City - Park City Mountain  POINT (457124.570 4500351.650)"
      ]
     },
     "execution_count": 5,
     "metadata": {},
     "output_type": "execute_result"
    }
   ],
   "source": [
    "ski_resort_df.head(2) #This is our ski resort data"
   ]
  },
  {
   "cell_type": "code",
   "execution_count": 6,
   "metadata": {},
   "outputs": [
    {
     "data": {
      "text/html": [
       "<div>\n",
       "<style scoped>\n",
       "    .dataframe tbody tr th:only-of-type {\n",
       "        vertical-align: middle;\n",
       "    }\n",
       "\n",
       "    .dataframe tbody tr th {\n",
       "        vertical-align: top;\n",
       "    }\n",
       "\n",
       "    .dataframe thead th {\n",
       "        text-align: right;\n",
       "    }\n",
       "</style>\n",
       "<table border=\"1\" class=\"dataframe\">\n",
       "  <thead>\n",
       "    <tr style=\"text-align: right;\">\n",
       "      <th></th>\n",
       "      <th>FID</th>\n",
       "      <th>COUNTYNBR</th>\n",
       "      <th>ENTITYNBR</th>\n",
       "      <th>ENTITYYR</th>\n",
       "      <th>NAME</th>\n",
       "      <th>FIPS</th>\n",
       "      <th>STATEPLANE</th>\n",
       "      <th>POP_LASTCE</th>\n",
       "      <th>POP_CURRES</th>\n",
       "      <th>GlobalID</th>\n",
       "      <th>FIPS_STR</th>\n",
       "      <th>COLOR4</th>\n",
       "      <th>SHAPE_Leng</th>\n",
       "      <th>SHAPE_Area</th>\n",
       "      <th>geometry</th>\n",
       "    </tr>\n",
       "  </thead>\n",
       "  <tbody>\n",
       "    <tr>\n",
       "      <th>0</th>\n",
       "      <td>1</td>\n",
       "      <td>03</td>\n",
       "      <td>2.010031e+09</td>\n",
       "      <td>2010.0</td>\n",
       "      <td>CACHE</td>\n",
       "      <td>5.0</td>\n",
       "      <td>North</td>\n",
       "      <td>113307</td>\n",
       "      <td>128886</td>\n",
       "      <td>{4E8EDA26-0663-4E36-BA63-3FFB6E26F3E9}</td>\n",
       "      <td>49005</td>\n",
       "      <td>2</td>\n",
       "      <td>3.071504</td>\n",
       "      <td>0.328661</td>\n",
       "      <td>POLYGON ((-112.15617 41.99773, -112.15399 41.9...</td>\n",
       "    </tr>\n",
       "    <tr>\n",
       "      <th>1</th>\n",
       "      <td>2</td>\n",
       "      <td>07</td>\n",
       "      <td>2.010071e+09</td>\n",
       "      <td>2010.0</td>\n",
       "      <td>DUCHESNE</td>\n",
       "      <td>13.0</td>\n",
       "      <td>Central</td>\n",
       "      <td>18721</td>\n",
       "      <td>20850</td>\n",
       "      <td>{C3E5EC81-5770-4B25-9DA0-85053A93877F}</td>\n",
       "      <td>49013</td>\n",
       "      <td>4</td>\n",
       "      <td>3.966961</td>\n",
       "      <td>0.891751</td>\n",
       "      <td>POLYGON ((-110.25174 40.83235, -110.25071 40.8...</td>\n",
       "    </tr>\n",
       "  </tbody>\n",
       "</table>\n",
       "</div>"
      ],
      "text/plain": [
       "   FID COUNTYNBR     ENTITYNBR  ENTITYYR      NAME  FIPS STATEPLANE  \\\n",
       "0    1        03  2.010031e+09    2010.0     CACHE   5.0      North   \n",
       "1    2        07  2.010071e+09    2010.0  DUCHESNE  13.0    Central   \n",
       "\n",
       "   POP_LASTCE  POP_CURRES                                GlobalID FIPS_STR  \\\n",
       "0      113307      128886  {4E8EDA26-0663-4E36-BA63-3FFB6E26F3E9}    49005   \n",
       "1       18721       20850  {C3E5EC81-5770-4B25-9DA0-85053A93877F}    49013   \n",
       "\n",
       "   COLOR4  SHAPE_Leng  SHAPE_Area  \\\n",
       "0       2    3.071504    0.328661   \n",
       "1       4    3.966961    0.891751   \n",
       "\n",
       "                                            geometry  \n",
       "0  POLYGON ((-112.15617 41.99773, -112.15399 41.9...  \n",
       "1  POLYGON ((-110.25174 40.83235, -110.25071 40.8...  "
      ]
     },
     "execution_count": 6,
     "metadata": {},
     "output_type": "execute_result"
    }
   ],
   "source": [
    "ut_counties_raw.head(2)"
   ]
  },
  {
   "cell_type": "markdown",
   "metadata": {},
   "source": [
    "## Joining Data\n",
    "\n",
    "As it stands, the current .txt file representing education is useless. We need it joined to either track or county. For ease in this analysis, we will just use the counties!\n",
    "\n",
    "Note in the Educational Data: \n",
    "1. B15002_001E - Total Population 25 Years and Over\n",
    "2. B15002_calc_numLTHSM - Population 25 Years and Over whose Highest Education Completed is Less Than High School - Margin of Error\n",
    "\n",
    "These come from https://www.arcgis.com/home/item.html?id=84e3022a376e41feb4dd8addf25835a3&view=list&sortOrder=true&sortField=defaultFSOrder#data --> fields"
   ]
  },
  {
   "cell_type": "code",
   "execution_count": 7,
   "metadata": {},
   "outputs": [],
   "source": [
    "#We can extract the County FIPS code from GEOID in educational_attainment_raw to merge with ut_counties_raw\n",
    "educational_attainment_raw['COUNTY_FIPS'] = educational_attainment_raw['GEOID'].astype('str').str[3:5].astype('int')\n",
    "\n",
    "#Need to make the data types both int\n",
    "ut_counties_raw['COUNTY_FIPS'] = ut_counties_raw['FIPS'].astype('int')"
   ]
  },
  {
   "cell_type": "code",
   "execution_count": 8,
   "metadata": {},
   "outputs": [],
   "source": [
    "#Merge with the County Data frame\n",
    "ed_attain_county_gdf = ut_counties_raw.merge(educational_attainment_raw,how='right',on='COUNTY_FIPS')"
   ]
  },
  {
   "cell_type": "code",
   "execution_count": 9,
   "metadata": {},
   "outputs": [],
   "source": [
    "#Let's first find the percentage of people in each tract who have not graduated from high school\n",
    "ed_attain_county_gdf['pop_perc_not_hs_grad'] = ed_attain_county_gdf['B15002_calc_numLTHSE'] / ed_attain_county_gdf['B15002_001E']\n",
    "\n",
    "#Now that we have values for all the counties let's group down, so we have average number \n",
    "#who did not graduate from hs\n",
    "avg_edu_df = ed_attain_county_gdf.groupby(['COUNTY_FIPS']).agg({'geometry':'first',\n",
    "                                                                'pop_perc_not_hs_grad':'mean'}).reset_index()"
   ]
  },
  {
   "cell_type": "code",
   "execution_count": 10,
   "metadata": {},
   "outputs": [
    {
     "data": {
      "text/html": [
       "<div>\n",
       "<style scoped>\n",
       "    .dataframe tbody tr th:only-of-type {\n",
       "        vertical-align: middle;\n",
       "    }\n",
       "\n",
       "    .dataframe tbody tr th {\n",
       "        vertical-align: top;\n",
       "    }\n",
       "\n",
       "    .dataframe thead th {\n",
       "        text-align: right;\n",
       "    }\n",
       "</style>\n",
       "<table border=\"1\" class=\"dataframe\">\n",
       "  <thead>\n",
       "    <tr style=\"text-align: right;\">\n",
       "      <th></th>\n",
       "      <th>COUNTY_FIPS</th>\n",
       "      <th>geometry</th>\n",
       "      <th>pop_perc_not_hs_grad</th>\n",
       "    </tr>\n",
       "  </thead>\n",
       "  <tbody>\n",
       "    <tr>\n",
       "      <th>0</th>\n",
       "      <td>1</td>\n",
       "      <td>POLYGON ((-112.51541 38.57285, -112.51540 38.5...</td>\n",
       "      <td>0.093589</td>\n",
       "    </tr>\n",
       "    <tr>\n",
       "      <th>1</th>\n",
       "      <td>3</td>\n",
       "      <td>POLYGON ((-113.47489 41.99331, -113.47326 41.9...</td>\n",
       "      <td>0.059367</td>\n",
       "    </tr>\n",
       "  </tbody>\n",
       "</table>\n",
       "</div>"
      ],
      "text/plain": [
       "   COUNTY_FIPS                                           geometry  \\\n",
       "0            1  POLYGON ((-112.51541 38.57285, -112.51540 38.5...   \n",
       "1            3  POLYGON ((-113.47489 41.99331, -113.47326 41.9...   \n",
       "\n",
       "   pop_perc_not_hs_grad  \n",
       "0              0.093589  \n",
       "1              0.059367  "
      ]
     },
     "execution_count": 10,
     "metadata": {},
     "output_type": "execute_result"
    }
   ],
   "source": [
    "avg_edu_df.head(2)\n",
    "#Sweet! These values make sense"
   ]
  },
  {
   "cell_type": "code",
   "execution_count": 11,
   "metadata": {},
   "outputs": [],
   "source": [
    "#TO DO: \n",
    "#Get a track level geodataframe with educational data of a variable of your choice!"
   ]
  },
  {
   "cell_type": "markdown",
   "metadata": {},
   "source": [
    "## Converting Projections\n",
    "\n",
    "Each of the loaded databases has a different mapping! Most often, these databases will have an associated projections which can be accessed easily utilizing the `.crs` command. Note, with lots of lat/long data there is typically no projection - this utilizes epsg 4326.  \n",
    "\n",
    "One annoying part of groupby's is they force the geodataframe to become a dataframe. We will first need to revert avg_edu_df to a geodataframe then alter the projections. "
   ]
  },
  {
   "cell_type": "code",
   "execution_count": 12,
   "metadata": {},
   "outputs": [
    {
     "data": {
      "text/plain": [
       "pandas.core.frame.DataFrame"
      ]
     },
     "execution_count": 12,
     "metadata": {},
     "output_type": "execute_result"
    }
   ],
   "source": [
    "type(avg_edu_df)"
   ]
  },
  {
   "cell_type": "code",
   "execution_count": 13,
   "metadata": {},
   "outputs": [
    {
     "name": "stdout",
     "output_type": "stream",
     "text": [
      "<class 'geopandas.geodataframe.GeoDataFrame'>\n"
     ]
    }
   ],
   "source": [
    "#Converting to a geodataframe\n",
    "avg_edu_gdf = gpd.GeoDataFrame(avg_edu_df, geometry=avg_edu_df['geometry'])\n",
    "\n",
    "#Assign back the projection\n",
    "avg_edu_gdf.crs = ed_attain_county_gdf.crs\n",
    "print(type(avg_edu_gdf))"
   ]
  },
  {
   "cell_type": "code",
   "execution_count": 14,
   "metadata": {},
   "outputs": [],
   "source": [
    "def projection_getter(dataframe_name,dataframe):\n",
    "    print(dataframe_name + ' has the mapping: ' + str(dataframe.crs))"
   ]
  },
  {
   "cell_type": "code",
   "execution_count": 15,
   "metadata": {},
   "outputs": [
    {
     "name": "stdout",
     "output_type": "stream",
     "text": [
      "Average education by County data has the mapping: epsg:4326\n",
      "ski resorts data has the mapping: +init=epsg:26912 +type=crs\n"
     ]
    }
   ],
   "source": [
    "projection_getter(\"Average education by County data\",avg_edu_gdf)\n",
    "projection_getter(\"ski resorts data\",ski_resort_df)"
   ]
  },
  {
   "cell_type": "markdown",
   "metadata": {},
   "source": [
    "## Reprojecting Data\n",
    "\n",
    "We now need to convert all mappings to a unified projection. We will use 3857 since it is compatible with contextily - our background mapping program!"
   ]
  },
  {
   "cell_type": "code",
   "execution_count": 16,
   "metadata": {},
   "outputs": [
    {
     "name": "stdout",
     "output_type": "stream",
     "text": [
      "Average education by County data has the mapping: epsg:3857\n",
      "ski resorts data has the mapping: epsg:3857\n"
     ]
    }
   ],
   "source": [
    "avg_edu_gdf = avg_edu_gdf.to_crs(epsg=3857)\n",
    "ski_resort_gdf = ski_resort_df.to_crs(epsg=3857)\n",
    "\n",
    "projection_getter(\"Average education by County data\",avg_edu_gdf)\n",
    "projection_getter(\"ski resorts data\",ski_resort_gdf)"
   ]
  },
  {
   "cell_type": "markdown",
   "metadata": {},
   "source": [
    "## Visualizing the Data\n",
    "\n",
    "This is a basic view overview of plotting"
   ]
  },
  {
   "cell_type": "code",
   "execution_count": 17,
   "metadata": {},
   "outputs": [],
   "source": [
    "fig,ax = plt.subplots(1,1,figsize=(20,20))\n",
    "avg_edu_gdf.plot(column = 'pop_perc_not_hs_grad',\n",
    "                    ax = ax,\n",
    "                    alpha=0.8,\n",
    "                    legend=True,\n",
    "                    legend_kwds={'label': \"% Population 25+ who did not graduate from hs\"})\n",
    "\n",
    "ax.set_title('% of Utah Population Without HS Degree')\n",
    "ax.axes.xaxis.set_visible(False)\n",
    "ax.axes.yaxis.set_visible(False)\n",
    "\n",
    "ctx.add_basemap(ax)\n",
    "\n",
    "plt.close()\n",
    "#fig.saveas('fig_name.png')"
   ]
  },
  {
   "cell_type": "code",
   "execution_count": 18,
   "metadata": {},
   "outputs": [],
   "source": [
    "#Let's try taking only the subsample of wasatch counties\n",
    "wasatchfront_countyfps=[49,35,11,29,57]\n",
    "avg_edu_wasatch_gdf = avg_edu_gdf[avg_edu_gdf.COUNTY_FIPS.isin(wasatchfront_countyfps)]\n",
    "\n",
    "fig,ax = plt.subplots(1,1,figsize=(20,20))\n",
    "avg_edu_wasatch_gdf.plot(column = 'pop_perc_not_hs_grad',\n",
    "                    ax = ax,\n",
    "                    alpha=0.8,\n",
    "                    legend=True,\n",
    "                    legend_kwds={'label': \"% Population 25+ who did not graduate from hs\"})\n",
    "\n",
    "ax.set_title('% of Wasatch Population Without HS Degree')\n",
    "ax.axes.xaxis.set_visible(False)\n",
    "ax.axes.yaxis.set_visible(False)\n",
    "\n",
    "ctx.add_basemap(ax)\n",
    "\n",
    "plt.close()\n",
    "#fig.saveas('fig_name.png')"
   ]
  },
  {
   "cell_type": "code",
   "execution_count": 19,
   "metadata": {},
   "outputs": [],
   "source": [
    "#Let's Visualize some point data\n",
    "fig,ax = plt.subplots(1,1,figsize=(20,20))\n",
    "ski_resort_gdf.plot(ax = ax,\n",
    "                    alpha=0.8,\n",
    "                   markersize=80,\n",
    "                    marker='o', \n",
    "                    color='red')\n",
    "\n",
    "ax.legend(['Ski Resorts in Utah'])\n",
    "ax.set_title('Locations of Ski Resorts')\n",
    "ax.axes.xaxis.set_visible(False)\n",
    "ax.axes.yaxis.set_visible(False)\n",
    "\n",
    "ctx.add_basemap(ax)\n",
    "\n",
    "plt.close()\n",
    "#fig.saveas('fig_name.png')"
   ]
  },
  {
   "cell_type": "code",
   "execution_count": 20,
   "metadata": {},
   "outputs": [
    {
     "data": {
      "text/plain": [
       "geopandas.geodataframe.GeoDataFrame"
      ]
     },
     "execution_count": 20,
     "metadata": {},
     "output_type": "execute_result"
    }
   ],
   "source": [
    "type(ut_counties_raw.to_crs(epsg=3857))"
   ]
  },
  {
   "cell_type": "code",
   "execution_count": 25,
   "metadata": {},
   "outputs": [],
   "source": [
    "#Let's visualize a spatial join top see how many ski resorts there are per county\n",
    "temp_join = gpd.sjoin(ut_counties_raw.to_crs(epsg=3857),ski_resort_gdf) #Spatial join Points to polygons\n",
    "county_ski = dfsjoin.groupby('FIPS').agg({'geometry':'first','Name':'count'}).reset_index()\n",
    "\n",
    "county_ski_gdf = gpd.GeoDataFrame(county_ski, geometry=county_ski['geometry'])\n",
    "\n",
    "#TO DO: Finish plotting this to visualize which county has the most ski resorts (spoilers it isn't in the south!)"
   ]
  },
  {
   "cell_type": "code",
   "execution_count": null,
   "metadata": {},
   "outputs": [],
   "source": []
  }
 ],
 "metadata": {
  "kernelspec": {
   "display_name": "Python 3",
   "language": "python",
   "name": "python3"
  },
  "language_info": {
   "codemirror_mode": {
    "name": "ipython",
    "version": 3
   },
   "file_extension": ".py",
   "mimetype": "text/x-python",
   "name": "python",
   "nbconvert_exporter": "python",
   "pygments_lexer": "ipython3",
   "version": "3.7.7"
  }
 },
 "nbformat": 4,
 "nbformat_minor": 2
}
